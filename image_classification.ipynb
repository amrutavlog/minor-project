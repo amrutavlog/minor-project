{
  "nbformat": 4,
  "nbformat_minor": 0,
  "metadata": {
    "colab": {
      "name": "image classification.ipynb",
      "provenance": [],
      "authorship_tag": "ABX9TyOQo0QY5K9tfhVPMkBSFrtm",
      "include_colab_link": true
    },
    "kernelspec": {
      "name": "python3",
      "display_name": "Python 3"
    },
    "language_info": {
      "name": "python"
    }
  },
  "cells": [
    {
      "cell_type": "markdown",
      "metadata": {
        "id": "view-in-github",
        "colab_type": "text"
      },
      "source": [
        "<a href=\"https://colab.research.google.com/github/amrutavlog/minor-project/blob/main/image_classification.ipynb\" target=\"_parent\"><img src=\"https://colab.research.google.com/assets/colab-badge.svg\" alt=\"Open In Colab\"/></a>"
      ]
    },
    {
      "cell_type": "code",
      "metadata": {
        "id": "UdvLsTYeU2gk",
        "colab": {
          "base_uri": "https://localhost:8080/"
        },
        "outputId": "63941479-3f91-40e1-aebc-b0db6ee7b02a"
      },
      "source": [
        "!pip install ipython-autotime\n",
        "%load_ext autotime"
      ],
      "execution_count": null,
      "outputs": [
        {
          "output_type": "stream",
          "text": [
            "Requirement already satisfied: ipython-autotime in /usr/local/lib/python3.7/dist-packages (0.3.1)\n",
            "Requirement already satisfied: ipython in /usr/local/lib/python3.7/dist-packages (from ipython-autotime) (5.5.0)\n",
            "Requirement already satisfied: simplegeneric>0.8 in /usr/local/lib/python3.7/dist-packages (from ipython->ipython-autotime) (0.8.1)\n",
            "Requirement already satisfied: pexpect; sys_platform != \"win32\" in /usr/local/lib/python3.7/dist-packages (from ipython->ipython-autotime) (4.8.0)\n",
            "Requirement already satisfied: traitlets>=4.2 in /usr/local/lib/python3.7/dist-packages (from ipython->ipython-autotime) (5.0.5)\n",
            "Requirement already satisfied: decorator in /usr/local/lib/python3.7/dist-packages (from ipython->ipython-autotime) (4.4.2)\n",
            "Requirement already satisfied: pickleshare in /usr/local/lib/python3.7/dist-packages (from ipython->ipython-autotime) (0.7.5)\n",
            "Requirement already satisfied: setuptools>=18.5 in /usr/local/lib/python3.7/dist-packages (from ipython->ipython-autotime) (56.1.0)\n",
            "Requirement already satisfied: pygments in /usr/local/lib/python3.7/dist-packages (from ipython->ipython-autotime) (2.6.1)\n",
            "Requirement already satisfied: prompt-toolkit<2.0.0,>=1.0.4 in /usr/local/lib/python3.7/dist-packages (from ipython->ipython-autotime) (1.0.18)\n",
            "Requirement already satisfied: ptyprocess>=0.5 in /usr/local/lib/python3.7/dist-packages (from pexpect; sys_platform != \"win32\"->ipython->ipython-autotime) (0.7.0)\n",
            "Requirement already satisfied: ipython-genutils in /usr/local/lib/python3.7/dist-packages (from traitlets>=4.2->ipython->ipython-autotime) (0.2.0)\n",
            "Requirement already satisfied: wcwidth in /usr/local/lib/python3.7/dist-packages (from prompt-toolkit<2.0.0,>=1.0.4->ipython->ipython-autotime) (0.2.5)\n",
            "Requirement already satisfied: six>=1.9.0 in /usr/local/lib/python3.7/dist-packages (from prompt-toolkit<2.0.0,>=1.0.4->ipython->ipython-autotime) (1.15.0)\n",
            "The autotime extension is already loaded. To reload it, use:\n",
            "  %reload_ext autotime\n",
            "time: 2.54 s (started: 2021-05-23 08:31:22 +00:00)\n"
          ],
          "name": "stdout"
        }
      ]
    },
    {
      "cell_type": "code",
      "metadata": {
        "id": "Cmj5LpyOWpq-"
      },
      "source": [
        "# Data:images \n",
        "# 1.Download manually the images from Google\n",
        "# 2.Download dataset from Kaggle.com\n",
        "# 3.Build a image Web Crawler\n",
        "# 4.Use python  to scrape the images(Using)"
      ],
      "execution_count": null,
      "outputs": []
    },
    {
      "cell_type": "code",
      "metadata": {
        "colab": {
          "base_uri": "https://localhost:8080/"
        },
        "id": "PnZTKXUAWwWr",
        "outputId": "b99113f3-4428-42a6-ea9d-89e8febaaa34"
      },
      "source": [
        "!pip install  bing-image-downloader"
      ],
      "execution_count": null,
      "outputs": [
        {
          "output_type": "stream",
          "text": [
            "Collecting bing-image-downloader\n",
            "  Downloading https://files.pythonhosted.org/packages/0d/bf/537a61030b84ae4cd5022d5c7b014fd9bc3ce7c02358919153a6658a61d3/bing_image_downloader-1.0.4-py3-none-any.whl\n",
            "Installing collected packages: bing-image-downloader\n",
            "Successfully installed bing-image-downloader-1.0.4\n",
            "time: 2.83 s (started: 2021-05-23 08:33:02 +00:00)\n"
          ],
          "name": "stdout"
        }
      ]
    },
    {
      "cell_type": "code",
      "metadata": {
        "colab": {
          "base_uri": "https://localhost:8080/"
        },
        "id": "jjYLufQzW33x",
        "outputId": "3fedb818-6705-4b94-bf89-6253feee8e8a"
      },
      "source": [
        "!mkdir images"
      ],
      "execution_count": null,
      "outputs": [
        {
          "output_type": "stream",
          "text": [
            "time: 117 ms (started: 2021-05-23 08:33:49 +00:00)\n"
          ],
          "name": "stdout"
        }
      ]
    },
    {
      "cell_type": "code",
      "metadata": {
        "colab": {
          "base_uri": "https://localhost:8080/"
        },
        "id": "LaDMmqKnXCKY",
        "outputId": "b45b29f3-6cf5-47f1-9b90-ffb3c0d01269"
      },
      "source": [
        "from bing_image_downloader import downloader\n",
        "downloader.download(\"ice cream cones\",limit=30,output_dir='images',adult_filter_off=True)"
      ],
      "execution_count": null,
      "outputs": [
        {
          "output_type": "stream",
          "text": [
            "\n",
            "\n",
            "[!!]Indexing page: 1\n",
            "\n",
            "[%] Indexed 10 Images on Page 1.\n",
            "\n",
            "===============================================\n",
            "\n",
            "[%] Downloading Image #1 from https://www.seriouseats.com/images/2014/06/20140613-Chocolate-Dip-kingcone-vicky-wasik-14.jpg\n",
            "[!] Issue getting: https://www.seriouseats.com/images/2014/06/20140613-Chocolate-Dip-kingcone-vicky-wasik-14.jpg\n",
            "[!] Error:: HTTP Error 404: Not Found\n",
            "[%] Downloading Image #1 from http://www.how-to-draw-funny-cartoons.com/image-files/cartoon-ice-cream-4.gif\n",
            "[%] File Downloaded !\n",
            "\n",
            "[%] Downloading Image #2 from http://www.regis.com.au/site/wp-content/uploads/2017/04/Port-Macquarie-ice-cream.jpg\n",
            "[%] File Downloaded !\n",
            "\n",
            "[%] Downloading Image #3 from https://www.campfiremarshmallows.com/wp-content/uploads/2016/07/marshmallow-dipped-ice-cream-cones.jpg\n",
            "[%] File Downloaded !\n",
            "\n",
            "[%] Downloading Image #4 from https://banner2.kisspng.com/20171127/15a/transparent-ice-cream-cone-picture-clipart-5a1cd6094f60b6.7738444115118392413251.jpg\n",
            "[%] File Downloaded !\n",
            "\n",
            "[%] Downloading Image #5 from http://cdn.trendhunterstatic.com/thumbs/minimalist-baker-vodka-float.jpeg\n",
            "[%] File Downloaded !\n",
            "\n",
            "[%] Downloading Image #6 from https://c1.staticflickr.com/3/2890/12421500065_4aa790d7f0_b.jpg\n",
            "[%] File Downloaded !\n",
            "\n",
            "[%] Downloading Image #7 from https://thumbs.dreamstime.com/x/trio-ice-cream-sweet-sundae-5858935.jpg\n",
            "[%] File Downloaded !\n",
            "\n",
            "[%] Downloading Image #8 from https://www.speakinglatino.com/wp-content/uploads/2013/10/Piragua-Puerto-Rican-Spanish-Word-for-Snow-Cone.jpg\n",
            "[%] File Downloaded !\n",
            "\n",
            "[%] Downloading Image #9 from http://www.mintedandvintage.com/collections/media/catalog/product/cache/1/image/9df78eab33525d08d6e5fb8d27136e95/p/o/porcelain_ice_cream_jar.jpg\n",
            "[%] File Downloaded !\n",
            "\n",
            "\n",
            "\n",
            "[!!]Indexing page: 2\n",
            "\n",
            "[%] Indexed 10 Images on Page 2.\n",
            "\n",
            "===============================================\n",
            "\n",
            "[%] Downloading Image #10 from https://www.seriouseats.com/images/2014/06/20140613-Chocolate-Dip-kingcone-vicky-wasik-14.jpg\n",
            "[!] Issue getting: https://www.seriouseats.com/images/2014/06/20140613-Chocolate-Dip-kingcone-vicky-wasik-14.jpg\n",
            "[!] Error:: HTTP Error 404: Not Found\n",
            "[%] Downloading Image #10 from http://www.how-to-draw-funny-cartoons.com/image-files/cartoon-ice-cream-4.gif\n",
            "[%] File Downloaded !\n",
            "\n",
            "[%] Downloading Image #11 from http://www.regis.com.au/site/wp-content/uploads/2017/04/Port-Macquarie-ice-cream.jpg\n",
            "[%] File Downloaded !\n",
            "\n",
            "[%] Downloading Image #12 from https://www.campfiremarshmallows.com/wp-content/uploads/2016/07/marshmallow-dipped-ice-cream-cones.jpg\n",
            "[%] File Downloaded !\n",
            "\n",
            "[%] Downloading Image #13 from https://banner2.kisspng.com/20171127/15a/transparent-ice-cream-cone-picture-clipart-5a1cd6094f60b6.7738444115118392413251.jpg\n",
            "[%] File Downloaded !\n",
            "\n",
            "[%] Downloading Image #14 from http://cdn.trendhunterstatic.com/thumbs/minimalist-baker-vodka-float.jpeg\n",
            "[%] File Downloaded !\n",
            "\n",
            "[%] Downloading Image #15 from https://c1.staticflickr.com/3/2890/12421500065_4aa790d7f0_b.jpg\n",
            "[%] File Downloaded !\n",
            "\n",
            "[%] Downloading Image #16 from https://thumbs.dreamstime.com/x/trio-ice-cream-sweet-sundae-5858935.jpg\n",
            "[%] File Downloaded !\n",
            "\n",
            "[%] Downloading Image #17 from https://www.speakinglatino.com/wp-content/uploads/2013/10/Piragua-Puerto-Rican-Spanish-Word-for-Snow-Cone.jpg\n",
            "[%] File Downloaded !\n",
            "\n",
            "[%] Downloading Image #18 from http://www.mintedandvintage.com/collections/media/catalog/product/cache/1/image/9df78eab33525d08d6e5fb8d27136e95/p/o/porcelain_ice_cream_jar.jpg\n",
            "[%] File Downloaded !\n",
            "\n",
            "\n",
            "\n",
            "[!!]Indexing page: 3\n",
            "\n",
            "[%] Indexed 9 Images on Page 3.\n",
            "\n",
            "===============================================\n",
            "\n",
            "[%] Downloading Image #19 from https://www.campfiremarshmallows.com/wp-content/uploads/2016/07/marshmallow-dipped-ice-cream-cones.jpg\n",
            "[%] File Downloaded !\n",
            "\n",
            "[%] Downloading Image #20 from https://banner2.kisspng.com/20171127/15a/transparent-ice-cream-cone-picture-clipart-5a1cd6094f60b6.7738444115118392413251.jpg\n",
            "[%] File Downloaded !\n",
            "\n",
            "[%] Downloading Image #21 from http://cdn.trendhunterstatic.com/thumbs/minimalist-baker-vodka-float.jpeg\n",
            "[%] File Downloaded !\n",
            "\n",
            "[%] Downloading Image #22 from https://c1.staticflickr.com/3/2890/12421500065_4aa790d7f0_b.jpg\n",
            "[%] File Downloaded !\n",
            "\n",
            "[%] Downloading Image #23 from https://thumbs.dreamstime.com/x/trio-ice-cream-sweet-sundae-5858935.jpg\n",
            "[%] File Downloaded !\n",
            "\n",
            "[%] Downloading Image #24 from https://www.speakinglatino.com/wp-content/uploads/2013/10/Piragua-Puerto-Rican-Spanish-Word-for-Snow-Cone.jpg\n",
            "[%] File Downloaded !\n",
            "\n",
            "[%] Downloading Image #25 from http://www.mintedandvintage.com/collections/media/catalog/product/cache/1/image/9df78eab33525d08d6e5fb8d27136e95/p/o/porcelain_ice_cream_jar.jpg\n",
            "[%] File Downloaded !\n",
            "\n",
            "[%] Downloading Image #26 from http://www.how-to-draw-funny-cartoons.com/image-files/cartoon-ice-cream-4.gif\n",
            "[%] File Downloaded !\n",
            "\n",
            "[%] Downloading Image #27 from http://www.regis.com.au/site/wp-content/uploads/2017/04/Port-Macquarie-ice-cream.jpg\n",
            "[%] File Downloaded !\n",
            "\n",
            "\n",
            "\n",
            "[!!]Indexing page: 4\n",
            "\n",
            "[%] Indexed 9 Images on Page 4.\n",
            "\n",
            "===============================================\n",
            "\n",
            "[%] Downloading Image #28 from https://cakesprices.com/wp-content/uploads/2018/02/Mcdonalds-Ice-Cream-cone.jpg\n",
            "[%] File Downloaded !\n",
            "\n",
            "[%] Downloading Image #29 from http://www.trbimg.com/img-5643c0fd/turbine/sf-best-ice-cream-kids-jaxsons-ice-cream-parlor-2015\n",
            "[%] File Downloaded !\n",
            "\n",
            "[%] Downloading Image #30 from https://img.maximummedia.ie/joe_ie/eyJkYXRhIjoie1widXJsXCI6XCJodHRwOlxcXC9cXFwvbWVkaWEtam9lLm1heGltdW1tZWRpYS5pZS5zMy5hbWF6b25hd3MuY29tXFxcL3dwLWNvbnRlbnRcXFwvdXBsb2Fkc1xcXC8yMDE1XFxcLzA2XFxcLzMwMTQwMDU1XFxcL2ljZWNyZWFtZ2lmLmdpZlwiLFwid2lkdGhcIjo2NDcsXCJoZWlnaHRcIjozNDAsXCJkZWZhdWx0XCI6XCJodHRwczpcXFwvXFxcL3d3dy5qb2UuaWVcXFwvYXNzZXRzXFxcL2ltYWdlc1xcXC9qb2VcXFwvbm8taW1hZ2UucG5nP2lkPTQzYmNhOWRlN2ViMjY5NzM3YTBmXCIsXCJvcHRpb25zXCI6W119IiwiaGFzaCI6IjQzOTBjODQ2MmE2M2Y5Njc3ZjA4OTc3MmY2NDI5Yjk0MzE3NDZmZDEifQ==/icecreamgif.gif\n",
            "[%] File Downloaded !\n",
            "\n",
            "\n",
            "\n",
            "[%] Done. Downloaded 30 images.\n",
            "\n",
            "===============================================\n",
            "\n",
            "time: 11.7 s (started: 2021-05-23 08:34:27 +00:00)\n"
          ],
          "name": "stdout"
        }
      ]
    },
    {
      "cell_type": "code",
      "metadata": {
        "colab": {
          "base_uri": "https://localhost:8080/"
        },
        "id": "CSryxdr6YIw7",
        "outputId": "09ce722c-66a5-43af-fcf0-4382e7a898b8"
      },
      "source": [
        "from bing_image_downloader import downloader\n",
        "downloader.download(\"doreamon image\",limit=30,output_dir='images',adult_filter_off=True)"
      ],
      "execution_count": null,
      "outputs": [
        {
          "output_type": "stream",
          "text": [
            "\n",
            "\n",
            "[!!]Indexing page: 1\n",
            "\n",
            "[%] Indexed 10 Images on Page 1.\n",
            "\n",
            "===============================================\n",
            "\n",
            "[%] Downloading Image #1 from https://asianwiki.com/images/6/68/Doraemon-_Nobita's_Secret_Tool_Museum-001.jpg\n",
            "[%] File Downloaded !\n",
            "\n",
            "[%] Downloading Image #2 from https://i.ytimg.com/vi/SYFLL1_k6U4/maxresdefault.jpg\n",
            "[%] File Downloaded !\n",
            "\n",
            "[%] Downloading Image #3 from http://wallpapercave.com/wp/xHgYm7a.jpg\n",
            "[%] File Downloaded !\n",
            "\n",
            "[%] Downloading Image #4 from https://www.drawingtutorials101.com/drawing-tutorials/Anime-and-Manga/Doraemon/nobita/how-to-draw-nobita-from-doraemon.jpg\n",
            "[%] File Downloaded !\n",
            "\n",
            "[%] Downloading Image #5 from http://images2.fanpop.com/image/forum/57000/57367_1270088869473_full.jpg\n",
            "[%] File Downloaded !\n",
            "\n",
            "[%] Downloading Image #6 from https://i.ytimg.com/vi/Pw9v3tK6Q7Y/maxresdefault.jpg\n",
            "[%] File Downloaded !\n",
            "\n",
            "[%] Downloading Image #7 from https://i.ytimg.com/vi/s3maUFwk1n4/maxresdefault.jpg\n",
            "[%] File Downloaded !\n",
            "\n",
            "[%] Downloading Image #8 from https://i.ytimg.com/vi/O8_4EN-1JKE/hqdefault.jpg\n",
            "[%] File Downloaded !\n",
            "\n",
            "[%] Downloading Image #9 from https://i.ytimg.com/vi/_AD68IW4uN4/maxresdefault.jpg\n",
            "[%] File Downloaded !\n",
            "\n",
            "[%] Downloading Image #10 from https://www.anime-planet.com/images/characters/shizuka-minamoto-2783.jpg\n",
            "[%] File Downloaded !\n",
            "\n",
            "\n",
            "\n",
            "[!!]Indexing page: 2\n",
            "\n",
            "[%] Indexed 11 Images on Page 2.\n",
            "\n",
            "===============================================\n",
            "\n",
            "[%] Downloading Image #11 from https://www.gratistodo.com/wp-content/uploads/2017/02/Doraemon-Wallpapers-14.jpg\n",
            "[%] File Downloaded !\n",
            "\n",
            "[%] Downloading Image #12 from https://www.gratistodo.com/wp-content/uploads/2017/02/Doraemon-Wallpapers-12.jpg\n",
            "[%] File Downloaded !\n",
            "\n",
            "[%] Downloading Image #13 from https://www.gratistodo.com/wp-content/uploads/2017/02/Doraemon-Wallpapers-15.jpg\n",
            "[%] File Downloaded !\n",
            "\n",
            "[%] Downloading Image #14 from https://upload.wikimedia.org/wikipedia/en/c/c8/Doraemon_volume_1_cover.jpg\n",
            "[%] File Downloaded !\n",
            "\n",
            "[%] Downloading Image #15 from https://i.ytimg.com/vi/DhqmFDsfkr4/maxresdefault.jpg\n",
            "[%] File Downloaded !\n",
            "\n",
            "[%] Downloading Image #16 from https://i.ytimg.com/vi/o1JysppXhpY/maxresdefault.jpg\n",
            "[%] File Downloaded !\n",
            "\n",
            "[%] Downloading Image #17 from https://i.ytimg.com/vi/G4TIg3_wyKI/maxresdefault.jpg\n",
            "[%] File Downloaded !\n",
            "\n",
            "[%] Downloading Image #18 from http://hinhnendepnhat.net/wp-content/uploads/2015/07/hinh-nen-hoat-hinh-doremon-cuc-nhang-nhit.gif\n",
            "[%] File Downloaded !\n",
            "\n",
            "[%] Downloading Image #19 from https://www.bing.com/th/id/OGC.74e82c4ef5219039be22e8b19380c308?pid=1.7&amp;rurl=http%3a%2f%2fhinhnendepnhat.net%2fwp-content%2fuploads%2f2015%2f07%2fhinh-nen-hoat-hinh-doremon-cuc-nhang-nhit.gif&amp;ehk=umUqZNJ0um%2bHBDx2wwn%2f0BMTUvGFpEUBCXxs%2fcAC8no%3d\n",
            "[!] Issue getting: https://www.bing.com/th/id/OGC.74e82c4ef5219039be22e8b19380c308?pid=1.7&amp;rurl=http%3a%2f%2fhinhnendepnhat.net%2fwp-content%2fuploads%2f2015%2f07%2fhinh-nen-hoat-hinh-doremon-cuc-nhang-nhit.gif&amp;ehk=umUqZNJ0um%2bHBDx2wwn%2f0BMTUvGFpEUBCXxs%2fcAC8no%3d\n",
            "[!] Error:: HTTP Error 404: Not Found\n",
            "[%] Downloading Image #19 from https://www.drawingtutorials101.com/drawing-tutorials/Anime-and-Manga/Doraemon/shizuka/how-to-draw-Shizuka-from-Doraemon-step-0.png\n",
            "[%] File Downloaded !\n",
            "\n",
            "[%] Downloading Image #20 from http://anime-kimuchi.com/wp-content/uploads/2020/01/Basilisk-เนตรสยบมาร-พากย์ไทย.jpg\n",
            "[!] Issue getting: http://anime-kimuchi.com/wp-content/uploads/2020/01/Basilisk-เนตรสยบมาร-พากย์ไทย.jpg\n",
            "[!] Error:: 'ascii' codec can't encode characters in position 41-50: ordinal not in range(128)\n",
            "\n",
            "\n",
            "[!!]Indexing page: 3\n",
            "\n",
            "[%] Indexed 9 Images on Page 3.\n",
            "\n",
            "===============================================\n",
            "\n",
            "[%] Downloading Image #20 from https://i.ytimg.com/vi/SYFLL1_k6U4/maxresdefault.jpg\n",
            "[%] File Downloaded !\n",
            "\n",
            "[%] Downloading Image #21 from http://wallpapercave.com/wp/xHgYm7a.jpg\n",
            "[%] File Downloaded !\n",
            "\n",
            "[%] Downloading Image #22 from https://www.drawingtutorials101.com/drawing-tutorials/Anime-and-Manga/Doraemon/nobita/how-to-draw-nobita-from-doraemon.jpg\n",
            "[%] File Downloaded !\n",
            "\n",
            "[%] Downloading Image #23 from http://images2.fanpop.com/image/forum/57000/57367_1270088869473_full.jpg\n",
            "[%] File Downloaded !\n",
            "\n",
            "[%] Downloading Image #24 from https://i.ytimg.com/vi/Pw9v3tK6Q7Y/maxresdefault.jpg\n",
            "[%] File Downloaded !\n",
            "\n",
            "[%] Downloading Image #25 from https://i.ytimg.com/vi/s3maUFwk1n4/maxresdefault.jpg\n",
            "[%] File Downloaded !\n",
            "\n",
            "[%] Downloading Image #26 from https://i.ytimg.com/vi/O8_4EN-1JKE/hqdefault.jpg\n",
            "[%] File Downloaded !\n",
            "\n",
            "[%] Downloading Image #27 from https://i.ytimg.com/vi/_AD68IW4uN4/maxresdefault.jpg\n",
            "[%] File Downloaded !\n",
            "\n",
            "[%] Downloading Image #28 from https://www.anime-planet.com/images/characters/shizuka-minamoto-2783.jpg\n",
            "[%] File Downloaded !\n",
            "\n",
            "\n",
            "\n",
            "[!!]Indexing page: 4\n",
            "\n",
            "[%] Indexed 9 Images on Page 4.\n",
            "\n",
            "===============================================\n",
            "\n",
            "[%] Downloading Image #29 from https://www.gratistodo.com/wp-content/uploads/2017/02/Doraemon-Wallpapers-15.jpg\n",
            "[%] File Downloaded !\n",
            "\n",
            "[%] Downloading Image #30 from http://anime-kimuchi.com/wp-content/uploads/2020/01/Basilisk-เนตรสยบมาร-พากย์ไทย.jpg\n",
            "[!] Issue getting: http://anime-kimuchi.com/wp-content/uploads/2020/01/Basilisk-เนตรสยบมาร-พากย์ไทย.jpg\n",
            "[!] Error:: 'ascii' codec can't encode characters in position 41-50: ordinal not in range(128)\n",
            "[%] Downloading Image #30 from https://upload.wikimedia.org/wikipedia/en/c/c8/Doraemon_volume_1_cover.jpg\n",
            "[%] File Downloaded !\n",
            "\n",
            "\n",
            "\n",
            "[%] Done. Downloaded 30 images.\n",
            "\n",
            "===============================================\n",
            "\n",
            "time: 5.91 s (started: 2021-05-23 08:39:22 +00:00)\n"
          ],
          "name": "stdout"
        }
      ]
    },
    {
      "cell_type": "code",
      "metadata": {
        "colab": {
          "base_uri": "https://localhost:8080/"
        },
        "id": "tTv-JIIoZIS5",
        "outputId": "4b127c51-1068-42d4-ba0a-7b0290772655"
      },
      "source": [
        "from bing_image_downloader import downloader\n",
        "downloader.download(\"red roses\",limit=30,output_dir='images',adult_filter_off=True)"
      ],
      "execution_count": null,
      "outputs": [
        {
          "output_type": "stream",
          "text": [
            "\n",
            "\n",
            "[!!]Indexing page: 1\n",
            "\n",
            "[%] Indexed 10 Images on Page 1.\n",
            "\n",
            "===============================================\n",
            "\n",
            "[%] Downloading Image #1 from https://www.wallpapers13.com/wp-content/uploads/2015/11/Bouquet-flowers-red-roses-love-Valentine-s-Day_2560x1600-1920x1440.jpg\n",
            "[%] File Downloaded !\n",
            "\n",
            "[%] Downloading Image #2 from https://www.hdwallpapers.in/download/pure_red_sunflowers-1920x1200.jpg\n",
            "[%] File Downloaded !\n",
            "\n",
            "[%] Downloading Image #3 from https://www.wallpapers13.com/wp-content/uploads/2018/04/Yellow-Red-Flowers-Photos-Ultra-Hd-Wallpapers-3840x2400-1024x768.jpg\n",
            "[%] File Downloaded !\n",
            "\n",
            "[%] Downloading Image #4 from https://i.pinimg.com/736x/c4/0d/6d/c40d6d7161edf07a7abd4b48b577d840--red-feed-red-roses.jpg\n",
            "[%] File Downloaded !\n",
            "\n",
            "[%] Downloading Image #5 from https://www.wallpapers13.com/wp-content/uploads/2016/12/Happy-New-Year-red-roses-flower-Images-2021-greeting-card-1920x1200-1-1600x1200.jpg\n",
            "[%] File Downloaded !\n",
            "\n",
            "[%] Downloading Image #6 from http://www.wallpapers13.com/wp-content/uploads/2016/06/Field-with-red-poppies-morning-sunlight-through-dark-clouds-black-Wallpaper-HD-for-Desktop-2880x1620.jpg\n",
            "[%] File Downloaded !\n",
            "\n",
            "[%] Downloading Image #7 from https://weneedfun.com/wp-content/uploads/2016/12/Happy-Mothers-Day-Flowers-17.jpg\n",
            "[%] File Downloaded !\n",
            "\n",
            "[%] Downloading Image #8 from https://wallpapershome.com/images/wallpapers/beauty-and-the-beast-3840x2160-rose-red-best-movies-11557.jpg\n",
            "[%] File Downloaded !\n",
            "\n",
            "[%] Downloading Image #9 from https://www.wallpapers13.com/wp-content/uploads/2020/09/Bunch-Flower-Beautiful-Roses-Happy-Birthday-Wallpaper-Hd-1024x768.jpg\n",
            "[%] File Downloaded !\n",
            "\n",
            "[%] Downloading Image #10 from https://cdn.shopify.com/s/files/1/0580/1433/products/Main_store_Size_bc20f6a8-2ab8-4448-9d08-2fc41cb0f005_grande.jpg?v=1522716231\n",
            "[%] File Downloaded !\n",
            "\n",
            "\n",
            "\n",
            "[!!]Indexing page: 2\n",
            "\n",
            "[%] Indexed 10 Images on Page 2.\n",
            "\n",
            "===============================================\n",
            "\n",
            "[%] Downloading Image #11 from https://wallpapershome.com/images/wallpapers/roses-1920x1080-5k-4k-wallpaper-flower-bouquet-red-4107.jpg\n",
            "[%] File Downloaded !\n",
            "\n",
            "[%] Downloading Image #12 from http://www.wallpapers13.com/wp-content/uploads/2015/12/Colorful-daisy-flowers-pink-blue-orange-background-wallpaper-2560x1600-1280x960.jpg\n",
            "[%] File Downloaded !\n",
            "\n",
            "[%] Downloading Image #13 from https://www.parfumflowercompany.com/wp-content/uploads/2016/08/121.png\n",
            "[%] File Downloaded !\n",
            "\n",
            "[%] Downloading Image #14 from http://www.thetreecenter.com/wp-content/uploads/2014/06/knockout-rose-tree.jpg\n",
            "[%] File Downloaded !\n",
            "\n",
            "[%] Downloading Image #15 from https://www.parfumflowercompany.com/wp-content/uploads/2016/08/526.png\n",
            "[%] File Downloaded !\n",
            "\n",
            "[%] Downloading Image #16 from https://wallpapershome.com/images/wallpapers/roses-1440x2560-5k-4k-wallpaper-flower-bouquet-red-4107.jpg\n",
            "[%] File Downloaded !\n",
            "\n",
            "[%] Downloading Image #17 from https://arthistoryproject.com/site/assets/files/13181/emily-carr-red-cedar-1931-trivium-art-history.1200x0.jpg\n",
            "[%] File Downloaded !\n",
            "\n",
            "[%] Downloading Image #18 from https://www.parfumflowercompany.com/wp-content/uploads/2017/06/2.png\n",
            "[%] File Downloaded !\n",
            "\n",
            "[%] Downloading Image #19 from https://www.wallpapers13.com/wp-content/uploads/2018/03/Lotus-pink-flower-green-leaves-pond-Lotus-Flower-HD-Wallpaper-2880x1800-1920x1440.jpg\n",
            "[%] File Downloaded !\n",
            "\n",
            "[%] Downloading Image #20 from http://lahaina-maui-florist.com/wp-content/uploads/2012/12/20191205_134514.jpg\n",
            "[%] File Downloaded !\n",
            "\n",
            "\n",
            "\n",
            "[!!]Indexing page: 3\n",
            "\n",
            "[%] Indexed 9 Images on Page 3.\n",
            "\n",
            "===============================================\n",
            "\n",
            "[%] Downloading Image #21 from https://www.hdwallpapers.in/download/pure_red_sunflowers-1920x1200.jpg\n",
            "[%] File Downloaded !\n",
            "\n",
            "[%] Downloading Image #22 from https://www.wallpapers13.com/wp-content/uploads/2018/04/Yellow-Red-Flowers-Photos-Ultra-Hd-Wallpapers-3840x2400-1024x768.jpg\n",
            "[%] File Downloaded !\n",
            "\n",
            "[%] Downloading Image #23 from https://i.pinimg.com/736x/c4/0d/6d/c40d6d7161edf07a7abd4b48b577d840--red-feed-red-roses.jpg\n",
            "[%] File Downloaded !\n",
            "\n",
            "[%] Downloading Image #24 from https://www.wallpapers13.com/wp-content/uploads/2016/12/Happy-New-Year-red-roses-flower-Images-2021-greeting-card-1920x1200-1-1600x1200.jpg\n",
            "[%] File Downloaded !\n",
            "\n",
            "[%] Downloading Image #25 from http://www.wallpapers13.com/wp-content/uploads/2016/06/Field-with-red-poppies-morning-sunlight-through-dark-clouds-black-Wallpaper-HD-for-Desktop-2880x1620.jpg\n",
            "[%] File Downloaded !\n",
            "\n",
            "[%] Downloading Image #26 from https://weneedfun.com/wp-content/uploads/2016/12/Happy-Mothers-Day-Flowers-17.jpg\n",
            "[%] File Downloaded !\n",
            "\n",
            "[%] Downloading Image #27 from https://wallpapershome.com/images/wallpapers/beauty-and-the-beast-3840x2160-rose-red-best-movies-11557.jpg\n",
            "[%] File Downloaded !\n",
            "\n",
            "[%] Downloading Image #28 from https://www.wallpapers13.com/wp-content/uploads/2020/09/Bunch-Flower-Beautiful-Roses-Happy-Birthday-Wallpaper-Hd-1024x768.jpg\n",
            "[%] File Downloaded !\n",
            "\n",
            "[%] Downloading Image #29 from https://cdn.shopify.com/s/files/1/0580/1433/products/Main_store_Size_bc20f6a8-2ab8-4448-9d08-2fc41cb0f005_grande.jpg?v=1522716231\n",
            "[%] File Downloaded !\n",
            "\n",
            "\n",
            "\n",
            "[!!]Indexing page: 4\n",
            "\n",
            "[%] Indexed 8 Images on Page 4.\n",
            "\n",
            "===============================================\n",
            "\n",
            "[%] Downloading Image #30 from https://www.parfumflowercompany.com/wp-content/uploads/2017/06/1.png\n",
            "[%] File Downloaded !\n",
            "\n",
            "\n",
            "\n",
            "[%] Done. Downloaded 30 images.\n",
            "\n",
            "===============================================\n",
            "\n",
            "time: 29.4 s (started: 2021-05-23 08:43:18 +00:00)\n"
          ],
          "name": "stdout"
        }
      ]
    },
    {
      "cell_type": "code",
      "metadata": {
        "colab": {
          "base_uri": "https://localhost:8080/"
        },
        "id": "eZanMXGMZgPn",
        "outputId": "f6a373aa-494b-4c96-c537-8f4998c75515"
      },
      "source": [
        "import numpy as np\n",
        "\n",
        "a = np.array([[1,2,3,4,5],\n",
        "             [4,5,6,7,8]])\n",
        "a.ndim"
      ],
      "execution_count": null,
      "outputs": [
        {
          "output_type": "execute_result",
          "data": {
            "text/plain": [
              "2"
            ]
          },
          "metadata": {
            "tags": []
          },
          "execution_count": 8
        },
        {
          "output_type": "stream",
          "text": [
            "time: 7.06 ms (started: 2021-05-23 08:45:30 +00:00)\n"
          ],
          "name": "stdout"
        }
      ]
    },
    {
      "cell_type": "code",
      "metadata": {
        "colab": {
          "base_uri": "https://localhost:8080/"
        },
        "id": "8WZ0Ud1jZwIe",
        "outputId": "cfffe50a-7059-45d1-97e3-5dad79d96ae9"
      },
      "source": [
        "# convert i matrix to vector - flatten()\n",
        "a.flatten()"
      ],
      "execution_count": null,
      "outputs": [
        {
          "output_type": "execute_result",
          "data": {
            "text/plain": [
              "array([1, 2, 3, 4, 5, 4, 5, 6, 7, 8])"
            ]
          },
          "metadata": {
            "tags": []
          },
          "execution_count": 9
        },
        {
          "output_type": "stream",
          "text": [
            "time: 9.02 ms (started: 2021-05-23 08:48:49 +00:00)\n"
          ],
          "name": "stdout"
        }
      ]
    },
    {
      "cell_type": "code",
      "metadata": {
        "colab": {
          "base_uri": "https://localhost:8080/",
          "height": 286
        },
        "id": "Idd2Xjr8Z_u6",
        "outputId": "b72ed964-e845-46d2-ffa6-6b40dd4f492e"
      },
      "source": [
        "#preprocessing\n",
        "#1. Resize\n",
        "#2. Flatten\n",
        "import os\n",
        "import matplotlib.pyplot as plt\n",
        "import numpy as np\n",
        "from skimage.io import imread\n",
        "from skimage.transform import resize\n",
        "\n",
        "target = []\n",
        "images = []\n",
        "flat_data= []\n",
        "\n",
        "for category in CATEGORIES:\n",
        "  class_num = CATEGORIES.index(category)#Lable Encoding the values\n",
        "  path = os.path.join(DATADIR,category)#create path to use all the images\n",
        "  for img in os.listdir(path):\n",
        "   img_array = imread(os.path.join(path,img))\n",
        " #print(img_array.shape)\n",
        "  plt.imshow(img_array)\n",
        "  break\n",
        " # img_resized =  resize(img_array,(150,150,3))#Normalizes the values from 0 to1\n",
        " # flat_data.append(img_resized)\n",
        "  #images.append(img_resized)\n",
        " # target.append(class_num)"
      ],
      "execution_count": null,
      "outputs": [
        {
          "output_type": "display_data",
          "data": {
            "image/png": "[encoded data removed]",
            "text/plain": [
              "<Figure size 432x288 with 1 Axes>"
            ]
          },
          "metadata": {
            "tags": [],
            "needs_background": "light"
          }
        },
        {
          "output_type": "stream",
          "text": [
            "time: 752 ms (started: 2021-05-23 09:03:33 +00:00)\n"
          ],
          "name": "stdout"
        }
      ]
    },
    {
      "cell_type": "code",
      "metadata": {
        "colab": {
          "base_uri": "https://localhost:8080/"
        },
        "id": "VWgdzYiKfL-y",
        "outputId": "5882cde4-9b81-4efd-bc48-d081730b328b"
      },
      "source": [
        "img_resized =  resize(img_array,(150,150,3))#Normalizes the values from 0 to1\n",
        "flat_data.append(img_resized)\n",
        "images.append(img_resized)\n",
        "target.append(class_num)"
      ],
      "execution_count": null,
      "outputs": [
        {
          "output_type": "stream",
          "text": [
            "time: 171 ms (started: 2021-05-23 09:38:45 +00:00)\n"
          ],
          "name": "stdout"
        }
      ]
    },
    {
      "cell_type": "code",
      "metadata": {
        "colab": {
          "base_uri": "https://localhost:8080/"
        },
        "id": "lOVycyuMfhoY",
        "outputId": "f459a88c-b9be-4f44-f6ea-af11771d0517"
      },
      "source": [
        "len(flat_data[0])"
      ],
      "execution_count": null,
      "outputs": [
        {
          "output_type": "execute_result",
          "data": {
            "text/plain": [
              "150"
            ]
          },
          "metadata": {
            "tags": []
          },
          "execution_count": 58
        },
        {
          "output_type": "stream",
          "text": [
            "time: 8.05 ms (started: 2021-05-23 09:38:14 +00:00)\n"
          ],
          "name": "stdout"
        }
      ]
    },
    {
      "cell_type": "code",
      "metadata": {
        "colab": {
          "base_uri": "https://localhost:8080/"
        },
        "id": "dCOASOsVfua4",
        "outputId": "29a415b9-739f-4aa6-8fd8-012416143bb3"
      },
      "source": [
        "150*150*3"
      ],
      "execution_count": null,
      "outputs": [
        {
          "output_type": "execute_result",
          "data": {
            "text/plain": [
              "67500"
            ]
          },
          "metadata": {
            "tags": []
          },
          "execution_count": 62
        },
        {
          "output_type": "stream",
          "text": [
            "time: 6.58 ms (started: 2021-05-23 09:38:48 +00:00)\n"
          ],
          "name": "stdout"
        }
      ]
    },
    {
      "cell_type": "code",
      "metadata": {
        "colab": {
          "base_uri": "https://localhost:8080/"
        },
        "id": "_WSatHghlNlt",
        "outputId": "e52d5038-39d0-4265-883f-539c81c59b7c"
      },
      "source": [
        "target"
      ],
      "execution_count": null,
      "outputs": [
        {
          "output_type": "execute_result",
          "data": {
            "text/plain": [
              "[0, 0, 0]"
            ]
          },
          "metadata": {
            "tags": []
          },
          "execution_count": 63
        },
        {
          "output_type": "stream",
          "text": [
            "time: 3.73 ms (started: 2021-05-23 09:38:51 +00:00)\n"
          ],
          "name": "stdout"
        }
      ]
    },
    {
      "cell_type": "code",
      "metadata": {
        "colab": {
          "base_uri": "https://localhost:8080/",
          "height": 299
        },
        "id": "FXTAdiVlf0Ga",
        "outputId": "157a2da0-f06f-4bfc-f9bc-750e13da38f7"
      },
      "source": [
        "unique,count = np.unique(target,return_counts= True)\n",
        "plt.bar(CATEGORIES,count)"
      ],
      "execution_count": null,
      "outputs": [
        {
          "output_type": "execute_result",
          "data": {
            "text/plain": [
              "<BarContainer object of 3 artists>"
            ]
          },
          "metadata": {
            "tags": []
          },
          "execution_count": 26
        },
        {
          "output_type": "display_data",
          "data": {
            "image/png": "[encoded data removed]",
            "text/plain": [
              "<Figure size 432x288 with 1 Axes>"
            ]
          },
          "metadata": {
            "tags": [],
            "needs_background": "light"
          }
        },
        {
          "output_type": "stream",
          "text": [
            "time: 122 ms (started: 2021-05-23 09:13:04 +00:00)\n"
          ],
          "name": "stdout"
        }
      ]
    },
    {
      "cell_type": "code",
      "metadata": {
        "colab": {
          "base_uri": "https://localhost:8080/"
        },
        "id": "Uqy2PdOtkhhT",
        "outputId": "beeb80c6-8e2c-409d-89b0-f3f438cf309d"
      },
      "source": [
        "# split data into Traning and tasting\n",
        "from sklearn.model_selection import train_test_split\n",
        "x_train,x_test,y_train,y_test = train_test_split(flat_data,target,\n",
        "                                 test_size=0.3,random_state=109)"
      ],
      "execution_count": null,
      "outputs": [
        {
          "output_type": "stream",
          "text": [
            "time: 4.17 ms (started: 2021-05-23 09:39:07 +00:00)\n"
          ],
          "name": "stdout"
        }
      ]
    },
    {
      "cell_type": "code",
      "metadata": {
        "id": "0HHmz0eirtpe"
      },
      "source": [
        ""
      ],
      "execution_count": null,
      "outputs": []
    }
  ]
}